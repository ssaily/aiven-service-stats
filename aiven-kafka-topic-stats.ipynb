{
 "cells": [
  {
   "cell_type": "code",
   "execution_count": null,
   "id": "ac79e6e0-8cf7-4c5d-bb47-0d1300ad0854",
   "metadata": {},
   "outputs": [],
   "source": [
    "import os, json\n",
    "import pandas as pd\n",
    "import requests\n",
    "\n",
    "# Fill in Aiven token, project name and Kafka service name\n",
    "aiven_token = ''\n",
    "aiven_project = ''\n",
    "kafka_service = ''\n",
    "\n",
    "get_topic_data = 'https://api.aiven.io/v1/project/' + aiven_project + '/service/' + kafka_service + '/topic'\n",
    "response = requests.get(get_topic_data, headers={'Authorization': 'aivenv1 ' + aiven_token })\n",
    "topics = pd.json_normalize(response.json()['topics'])\n",
    "topics.head(3)"
   ]
  },
  {
   "cell_type": "code",
   "execution_count": null,
   "id": "2a7e0b8a-860b-40eb-a0d9-011621c543c6",
   "metadata": {},
   "outputs": [],
   "source": [
    "from tqdm import tqdm\n",
    "\n",
    "all = pd.DataFrame()\n",
    "for ind in tqdm(topics.index):\n",
    "    response = requests.get(get_topic_data + '/' + topics['topic_name'][ind], headers={'Authorization': 'aivenv1 ' + aiven_token })\n",
    "    t = pd.json_normalize(response.json()['topic'], record_path=['partitions'])\n",
    "    topic_name = topics['topic_name'][ind]\n",
    "    t['topic'] = topic_name\n",
    "\n",
    "    # Topic naming convention\n",
    "    #\n",
    "    #  aaaa.bbbbb.cccc.ddddd\n",
    "    #  ----\n",
    "    #    |  -----\n",
    "    #  group  |\n",
    "    #      component\n",
    "\n",
    "    if topic_name.count('.') > 0:\n",
    "        t['group'] = topic_name.split('.')[0]\n",
    "        if topic_name.count('.') > 1:\n",
    "            t['component'] = topic_name.split('.')[0]+'.'+topic_name.split('.')[1]\n",
    "        else:\n",
    "            t['component'] = t['group']\n",
    "    else:\n",
    "        t['group'] = topic_name\n",
    "        t['component'] = topic_name\n",
    "    t['size_mb'] = t['size'] / 1024 / 1024\n",
    "    all = pd.concat([all, t])\n",
    "\n",
    "all.head(3)\n"
   ]
  },
  {
   "cell_type": "code",
   "execution_count": null,
   "id": "d11f16fa-d500-4e2f-af67-51d61cc848cf",
   "metadata": {},
   "outputs": [],
   "source": [
    "all.describe()"
   ]
  },
  {
   "cell_type": "code",
   "execution_count": null,
   "id": "1875558e-5420-4461-a379-cfed5f87eeef",
   "metadata": {},
   "outputs": [],
   "source": [
    "all.groupby('topic').agg(part_count=('partition', 'count'), topic_size_mb=('size_mb', 'sum'), part_stddev=('size_mb', 'std')).sort_values(['topic_size_mb'],ascending=False)"
   ]
  },
  {
   "cell_type": "code",
   "execution_count": null,
   "id": "9061a706-7b06-41cc-adea-2a129143fb6a",
   "metadata": {},
   "outputs": [],
   "source": [
    "import matplotlib.pyplot as plt\n",
    "\n",
    "# group by the \"group\"\n",
    "\n",
    "by_group = all.groupby(['group']).agg(group_size_mb=('size_mb','sum'))\n",
    "\n",
    "by_group['group_size_mb'].nlargest(10).plot(kind='bar')\n",
    "plt.show()"
   ]
  },
  {
   "cell_type": "code",
   "execution_count": null,
   "id": "c1a8b302-fb23-4474-8291-ff647cd03f03",
   "metadata": {},
   "outputs": [],
   "source": [
    "# Top-n \"components\" by size\n",
    "\n",
    "by_component = all.groupby(['component']).agg(component_size_mb=('size_mb','sum'))\n",
    "\n",
    "ax = by_component['component_size_mb'].nlargest(10).plot(kind='bar')\n",
    "plt.show()"
   ]
  },
  {
   "cell_type": "code",
   "execution_count": null,
   "id": "b7b000f9-8452-494a-801e-7c04af457676",
   "metadata": {},
   "outputs": [],
   "source": [
    "#by_component[by_component.index.str.startswith('protocol.')]['size_mb'].nlargest(20).plot(kind='bar')\n",
    "by_component['size_mb'].nlargest(20).plot(kind='bar')\n",
    "plt.show()"
   ]
  },
  {
   "cell_type": "code",
   "execution_count": null,
   "id": "fcc13443-899c-443f-8a4b-9d97a3ad1100",
   "metadata": {},
   "outputs": [],
   "source": [
    "filtered = all.loc[all['topic'].str.endswith('changelog', na=False)]\n",
    "filtered.groupby('topic').agg(partitions=('partition', 'count'), topic_size_mb=('size_mb', 'sum')).sort_values(['topic_size_mb'],ascending=False)"
   ]
  },
  {
   "cell_type": "code",
   "execution_count": null,
   "id": "b67223be-84b0-4046-8b38-ecfaee0d2c97",
   "metadata": {},
   "outputs": [],
   "source": [
    "by_group[~by_group.index.str.startswith('protocol')]['group_size_mb'].nlargest(20).plot(kind='bar')\n",
    "plt.show()"
   ]
  },
  {
   "cell_type": "code",
   "execution_count": null,
   "id": "5db8bd57-a301-41f5-9e58-252e297b931a",
   "metadata": {},
   "outputs": [],
   "source": [
    "by_component[by_component.index.str.startswith('mongodb.')]['component_size_mb'].nlargest(20).plot(kind='bar')\n",
    "plt.show()"
   ]
  },
  {
   "cell_type": "code",
   "execution_count": null,
   "id": "44fe9984-2c9c-45a2-a30f-101aafc1171d",
   "metadata": {},
   "outputs": [],
   "source": [
    "#filtered = all.loc[all['topic'].str.startswith('mongodb.', na=False)]\n",
    "filtered = all\n",
    "filtered.groupby('topic').agg(partitions=('partition', 'count'), total_size_mb=('size_mb', 'sum')).sort_values(['total_size_mb'],ascending=False)"
   ]
  },
  {
   "cell_type": "code",
   "execution_count": null,
   "id": "3d6f4178-a67e-4c4b-990e-4351ceed796d",
   "metadata": {},
   "outputs": [],
   "source": []
  }
 ],
 "metadata": {
  "kernelspec": {
   "display_name": "analytics",
   "language": "python",
   "name": "analytics"
  },
  "language_info": {
   "codemirror_mode": {
    "name": "ipython",
    "version": 3
   },
   "file_extension": ".py",
   "mimetype": "text/x-python",
   "name": "python",
   "nbconvert_exporter": "python",
   "pygments_lexer": "ipython3",
   "version": "3.10.12"
  }
 },
 "nbformat": 4,
 "nbformat_minor": 5
}
